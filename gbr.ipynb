{
 "cells": [
  {
   "cell_type": "code",
   "execution_count": 2,
   "id": "4d344339-e3fc-4532-82f8-03d4949cb31e",
   "metadata": {},
   "outputs": [],
   "source": [
    "import numpy as np\n",
    "import pandas as pd\n",
    "import math\n",
    "from sklearn.datasets import make_regression\n",
    "from sklearn.model_selection import train_test_split\n",
    "from sklearn.tree import DecisionTreeRegressor"
   ]
  },
  {
   "cell_type": "code",
   "execution_count": 15,
   "id": "7065b9a3-878b-4882-952d-cee3fbe18643",
   "metadata": {},
   "outputs": [
    {
     "name": "stdout",
     "output_type": "stream",
     "text": [
      "            a         b         c         d          p   residual\n",
      "153  0.411020 -0.213859 -0.409696 -0.513196   3.399984 -24.294679\n",
      "42  -1.625844 -1.654907  0.949207  1.212061  -3.864029 -66.985775\n",
      "339  0.723342  1.546979  0.046136 -0.606887  13.964472  62.450086\n",
      "128  0.593595 -0.705635 -1.936534 -0.154281   3.399984 -72.883862\n",
      "102 -2.147703  1.237254 -0.303513  0.410566   4.708462 -38.737885\n",
      "..        ...       ...       ...       ...        ...        ...\n",
      "360  0.681188 -0.045952 -0.018226  1.067552   7.474545  42.462035\n",
      "385 -0.484075 -0.042687 -0.896940  0.595467   3.399984 -38.065315\n",
      "197 -0.256538 -0.423056  0.165360 -0.406681   3.399984 -36.129570\n",
      "174  0.070720 -0.135736  1.437316  1.005558   9.797790  59.546216\n",
      "122 -0.145247 -1.440265  0.508073  0.055178   9.797790 -47.219920\n",
      "\n",
      "[320 rows x 6 columns]\n",
      "             p    first\n",
      "153   3.399984  6.42615\n",
      "42   -3.864029  6.42615\n",
      "339  13.964472  6.42615\n",
      "128   3.399984  6.42615\n",
      "102   4.708462  6.42615\n",
      "..         ...      ...\n",
      "360   7.474545  6.42615\n",
      "385   3.399984  6.42615\n",
      "197   3.399984  6.42615\n",
      "174   9.797790  6.42615\n",
      "122   9.797790  6.42615\n",
      "\n",
      "[320 rows x 2 columns]\n"
     ]
    }
   ],
   "source": [
    "x,y = make_regression(n_samples=400, n_features=4, n_informative=4, n_targets=1, random_state=4)\n",
    "x = pd.DataFrame(data=x, columns=['a', 'b', 'c', 'd'])\n",
    "xtrain, xtest, ytrain, ytest = train_test_split(x,y,test_size=0.2,random_state=4)\n",
    "        \n",
    "#def predictor(zip, model, a=first, ctr=0, e=e ):\n",
    "    #ctr+=1\n",
    "    #for u in range(ctr):\n",
    "        #e.loc[:, 'u'] = first + 0.1*()\n",
    "    \n",
    "    \n",
    "\n",
    "def gbr(a,b):\n",
    "    a['residual'] = b - a.p\n",
    "    f = a.drop(['p', 'residual'], axis='columns')\n",
    "    t = a.residual\n",
    "    dtr = DecisionTreeRegressor(criterion='squared_error', max_leaf_nodes=8, random_state=4).fit(f,t)\n",
    "    leaves = dtr.apply(f)\n",
    "    pair = list(zip(f.index, leaves))\n",
    "    for c,d in pair:\n",
    "        a.loc[c, 'p'] = first + 0.1*(dtr.tree_.value[d][0][0])\n",
    "    #new = predictor(pair, dtr)\n",
    "    #df['a'] = a.p\n",
    "    #print(df)\n",
    "    return a\n",
    "    \n",
    "    \n",
    "    \n",
    "    \n",
    "first = np.mean(ytrain)\n",
    "#e = pd.DataFrame(data=[first]*xtrain.shape[0], columns=['first'])\n",
    "#print(type(first))\n",
    "xtrain['p'] = first\n",
    "#df = pd.DataFrame()\n",
    "#df.first = float(first)\n",
    "res = gbr(xtrain, ytrain)\n",
    "print(res)\n",
    "df = res.copy()\n",
    "df.drop(['a', 'b', 'c', 'd', 'residual'], axis='columns', inplace=True)\n",
    "df.loc[:,'first'] = first\n",
    "print(df)"
   ]
  },
  {
   "cell_type": "code",
   "execution_count": 5,
   "id": "25cc4d7e-c4c0-4184-8b43-b05736ca05e0",
   "metadata": {},
   "outputs": [
    {
     "name": "stdout",
     "output_type": "stream",
     "text": [
      "     1\n",
      "0  1.0\n",
      "1  1.0\n",
      "2  1.0\n",
      "3  1.0\n",
      "4  1.0\n",
      "5  1.0\n",
      "6  1.0\n",
      "7  1.0\n",
      "8  1.0\n",
      "9  1.0\n"
     ]
    }
   ],
   "source": [
    "d = pd.DataFrame(columns=['1'])\n",
    "d['1'] = np.ones(10)\n",
    "print(d)"
   ]
  },
  {
   "cell_type": "code",
   "execution_count": 6,
   "id": "ecd8934c-7bae-4c47-a732-de15f37504e6",
   "metadata": {},
   "outputs": [
    {
     "name": "stdout",
     "output_type": "stream",
     "text": [
      "     1    2\n",
      "0  1.0  0.0\n",
      "1  1.0  0.0\n",
      "2  1.0  0.0\n",
      "3  1.0  0.0\n",
      "4  1.0  0.0\n",
      "5  1.0  0.0\n",
      "6  1.0  0.0\n",
      "7  1.0  0.0\n",
      "8  1.0  0.0\n",
      "9  1.0  0.0\n"
     ]
    }
   ],
   "source": [
    "d.loc[:, '2'] = np.zeros(10)\n",
    "print(d)"
   ]
  },
  {
   "cell_type": "code",
   "execution_count": 7,
   "id": "255ac9da-b9b5-405a-b2ce-da736a53fd74",
   "metadata": {},
   "outputs": [
    {
     "name": "stdout",
     "output_type": "stream",
     "text": [
      "     :\n",
      "0  2.5\n",
      "1  2.5\n",
      "2  2.5\n",
      "3  2.5\n",
      "4  2.5\n",
      "5  2.5\n",
      "6  2.5\n",
      "7  2.5\n",
      "8  2.5\n",
      "9  2.5\n"
     ]
    }
   ],
   "source": [
    "e = pd.DataFrame(data=[2.5]*10, columns=[':'])\n",
    "print(e)"
   ]
  }
 ],
 "metadata": {
  "kernelspec": {
   "display_name": "Python 3 (ipykernel)",
   "language": "python",
   "name": "python3"
  },
  "language_info": {
   "codemirror_mode": {
    "name": "ipython",
    "version": 3
   },
   "file_extension": ".py",
   "mimetype": "text/x-python",
   "name": "python",
   "nbconvert_exporter": "python",
   "pygments_lexer": "ipython3",
   "version": "3.11.7"
  }
 },
 "nbformat": 4,
 "nbformat_minor": 5
}
