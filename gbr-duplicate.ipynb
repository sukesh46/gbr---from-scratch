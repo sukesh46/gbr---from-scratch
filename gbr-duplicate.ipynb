{
 "cells": [
  {
   "cell_type": "code",
   "execution_count": 92,
   "id": "4d344339-e3fc-4532-82f8-03d4949cb31e",
   "metadata": {},
   "outputs": [],
   "source": [
    "import numpy as np\n",
    "import pandas as pd\n",
    "import math\n",
    "from sklearn.datasets import make_regression\n",
    "from sklearn.model_selection import train_test_split\n",
    "from sklearn.tree import DecisionTreeRegressor"
   ]
  },
  {
   "cell_type": "code",
   "execution_count": 93,
   "id": "7065b9a3-878b-4882-952d-cee3fbe18643",
   "metadata": {
    "scrolled": true
   },
   "outputs": [],
   "source": [
    "x,y = make_regression(n_samples=400, n_features=4, n_informative=4, n_targets=1, random_state=4)\n",
    "x = pd.DataFrame(data=x, columns=['a', 'b', 'c', 'd'])\n",
    "xtrain, xtest, ytrain, ytest = train_test_split(x,y,test_size=0.2,random_state=4)\n",
    "        \n",
    "\n",
    "\n",
    "def gbr(a,b, df):\n",
    "    a['residual'] = b - a.p\n",
    "    f = a.drop(['p', 'residual'], axis='columns')\n",
    "    t = a.residual\n",
    "    dtr = DecisionTreeRegressor(criterion='squared_error', max_leaf_nodes=16, random_state=4).fit(f,t)\n",
    "    leaves = dtr.apply(f)\n",
    "    pair = list(zip(f.index, leaves))\n",
    "    if(len(df)==0):\n",
    "        for c,d in pair:\n",
    "            a.loc[c, 'p'] = first + 0.1*(dtr.tree_.value[d][0][0])\n",
    "        df.append(dtr)\n",
    "    else:\n",
    "        L = len(df)\n",
    "        for c,d in pair:\n",
    "            s = 0\n",
    "            for l in range(L):\n",
    "                s += 0.1*(df[l].tree_.value[d][0][0])\n",
    "            s = first + s + dtr.tree_.value[d][0][0]\n",
    "            a.loc[c, 'p'] = s\n",
    "        df.append(dtr)\n",
    "    \n",
    "    #print(a.p)\n",
    "                \n",
    "    #return a,a\n",
    "    \n",
    "    \n",
    "    \n",
    "    \n",
    "first = np.mean(ytrain)\n",
    "df= list()\n",
    "#print(type(first))\n",
    "xtrain['p'] = first\n",
    "for _ in range(25):\n",
    "    gbr(xtrain, ytrain, df)\n",
    "    #print(xtrain)\n",
    "#q.append(i)\n",
    "#for _ in range(10):\n",
    "    #q.append(gbr(q[-1], ytrain, df))\n",
    "#print(xtrain)"
   ]
  },
  {
   "cell_type": "code",
   "execution_count": 94,
   "id": "4f14ad57-ce96-4cd5-a503-ec2aebc075b8",
   "metadata": {},
   "outputs": [
    {
     "name": "stdout",
     "output_type": "stream",
     "text": [
      "MSE - 665.0778354213892 \n"
     ]
    }
   ],
   "source": [
    "from sklearn.metrics import mean_squared_error\n",
    "p = 0\n",
    "for model in df:\n",
    "    pr = 0.1*(model.predict(xtest))\n",
    "    p += pr\n",
    "p = first + p\n",
    "#print(p)\n",
    "mse = mean_squared_error(ytest, p)\n",
    "print('MSE - {} '.format(mse))"
   ]
  },
  {
   "cell_type": "code",
   "execution_count": 95,
   "id": "26e29f31-49d5-48a3-8a51-60f14902312d",
   "metadata": {},
   "outputs": [],
   "source": [
    "Xtrain = xtrain.copy()\n",
    "Xtrain.drop(['p', 'residual'], axis='columns', inplace=True)"
   ]
  },
  {
   "cell_type": "code",
   "execution_count": 96,
   "id": "48a094ff-e4fe-40f9-9bf1-97d35f3c80d7",
   "metadata": {},
   "outputs": [
    {
     "name": "stdout",
     "output_type": "stream",
     "text": [
      "MSE1 - 1035.516767185353\n"
     ]
    }
   ],
   "source": [
    "from sklearn.ensemble import GradientBoostingRegressor\n",
    "gbr1 = GradientBoostingRegressor(n_estimators=25, criterion='squared_error', max_leaf_nodes=16, random_state=4).fit(Xtrain, ytrain)\n",
    "pred = gbr1.predict(xtest)\n",
    "mse1 = mean_squared_error(ytest, pred)\n",
    "print('MSE1 - {}'.format(mse1))"
   ]
  },
  {
   "cell_type": "code",
   "execution_count": null,
   "id": "6989a416-4e3d-4257-a7a9-c841c27b4ba4",
   "metadata": {},
   "outputs": [],
   "source": []
  }
 ],
 "metadata": {
  "kernelspec": {
   "display_name": "Python 3 (ipykernel)",
   "language": "python",
   "name": "python3"
  },
  "language_info": {
   "codemirror_mode": {
    "name": "ipython",
    "version": 3
   },
   "file_extension": ".py",
   "mimetype": "text/x-python",
   "name": "python",
   "nbconvert_exporter": "python",
   "pygments_lexer": "ipython3",
   "version": "3.11.7"
  }
 },
 "nbformat": 4,
 "nbformat_minor": 5
}
